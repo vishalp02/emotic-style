{
 "cells": [
  {
   "cell_type": "code",
   "execution_count": 11,
   "metadata": {},
   "outputs": [],
   "source": [
    "#convert annotations.xml to xlsx file\n",
    "import xml.etree.ElementTree as ET\n",
    "import pandas as pd\n",
    "\n",
    "# Load XML file\n",
    "tree = ET.parse('/task_emotion_annotations_vggface2/annotations.xml')\n",
    "root = tree.getroot()\n",
    "\n",
    "# Create lists to store extracted data\n",
    "image_data = []\n",
    "\n",
    "# Loop through each image element\n",
    "for image in root.findall('image'):\n",
    "    image_id = int(image.get('id'))\n",
    "    image_name = image.get('name')\n",
    "    bbox = image.find('box')\n",
    "    if bbox is not None:\n",
    "        xtl = float(bbox.get('xtl'))\n",
    "        ytl = float(bbox.get('ytl'))\n",
    "        xbr = float(bbox.get('xbr'))\n",
    "        ybr = float(bbox.get('ybr'))\n",
    "        dominance = int(bbox.find(\"attribute[@name='Dominance']\").text)\n",
    "        arousal = int(bbox.find(\"attribute[@name='Arousal']\").text)\n",
    "        valence = int(bbox.find(\"attribute[@name='Valence']\").text)\n",
    "        emotion_label = bbox.find(\"attribute[@name='prevalent emotion']\").text\n",
    "\n",
    "        image_data.append([\n",
    "            image_id,\n",
    "            image_name,\n",
    "            xtl, ytl, xbr, ybr,\n",
    "            dominance,\n",
    "            arousal,\n",
    "            valence,\n",
    "            emotion_label\n",
    "        ])\n",
    "\n",
    "# Create a DataFrame\n",
    "df = pd.DataFrame(image_data, columns=[\n",
    "    'Image ID',\n",
    "    'Image Name',\n",
    "    'xtl', 'ytl', 'xbr', 'ybr',\n",
    "    'Dominance',\n",
    "    'Arousal',\n",
    "    'Valence',\n",
    "    'Emotion Label'\n",
    "])\n",
    "\n",
    "# Save the DataFrame to an Excel file\n",
    "df.to_excel('annotations.xlsx', index=False)\n"
   ]
  },
  {
   "cell_type": "code",
   "execution_count": 12,
   "metadata": {},
   "outputs": [
    {
     "name": "stdout",
     "output_type": "stream",
     "text": [
      "Text file created successfully.\n"
     ]
    }
   ],
   "source": [
    "#convert xlsx to txt file for inference\n",
    "import pandas as pd\n",
    "\n",
    "# Read the Excel file\n",
    "df = pd.read_excel('/task_emotion_annotations_vggface2/annotations.xlsx')\n",
    "\n",
    "# Format data and write to a text file\n",
    "with open('final_inference_input.txt', 'w') as txt_file:\n",
    "    for index, row in df.iterrows():\n",
    "        image_name = \"/task_emotion_annotations_vggface2/default/Person/\" + row['Image Name']\n",
    "        xtl = int(round(row['xtl']))\n",
    "        ytl = int(round(row['ytl']))\n",
    "        xbr = int(round(row['xbr']))\n",
    "        ybr = int(round(row['ybr']))\n",
    "        emotion_label = row['Emotion Label']\n",
    "        valence = row['Valence']  # Add Valence\n",
    "        arousal = row['Arousal']  # Add Arousal\n",
    "        dominance = row['Dominance']  # Add Dominance\n",
    "        \n",
    "        line = f\"{image_name} {xtl} {ytl} {xbr} {ybr} {emotion_label} {valence} {arousal} {dominance}\\n\"  # Include Valence, Arousal, and Dominance\n",
    "        txt_file.write(line)\n",
    "\n",
    "print(\"Text file created successfully.\")\n"
   ]
  },
  {
   "cell_type": "code",
   "execution_count": 16,
   "metadata": {},
   "outputs": [
    {
     "name": "stdout",
     "output_type": "stream",
     "text": [
      "Excel file created successfully.\n"
     ]
    }
   ],
   "source": [
    "import pandas as pd\n",
    "\n",
    "# Read the text file\n",
    "data = []\n",
    "with open('/task_emotion_annotations_vggface2/de_exp/results/inference_list_emotic_res50_colab.txt', 'r') as txt_file:\n",
    "    for line in txt_file:\n",
    "        parts = line.strip().split()\n",
    "        image_name = parts[0].replace(\"/task_emotion_annotations_vggface2/default/\", \"\")\n",
    "        emotion_label = ' '.join(parts[1:-3])\n",
    "        valence = float(parts[-3])\n",
    "        arousal = float(parts[-2])\n",
    "        dominance = float(parts[-1])\n",
    "        data.append([image_name, emotion_label, valence, arousal, dominance])\n",
    "\n",
    "# Create a DataFrame and save as Excel\n",
    "df = pd.DataFrame(data, columns=['Image Name', 'Emotion Label', 'Valence', 'Arousal', 'Dominance'])\n",
    "df.to_excel('inference_output_emotic_res50_colab_2.xlsx', index=False)\n",
    "\n",
    "print(\"Excel file created successfully.\")"
   ]
  },
  {
   "cell_type": "code",
   "execution_count": 19,
   "metadata": {},
   "outputs": [
    {
     "name": "stdout",
     "output_type": "stream",
     "text": [
      "Images with bounding boxes and labels created successfully.\n"
     ]
    }
   ],
   "source": [
    "#used to create images with bounding boxes and labels from inference output\n",
    "import pandas as pd\n",
    "import cv2\n",
    "import os\n",
    "\n",
    "# Read the Excel file\n",
    "excel_path = '/task_emotion_annotations_vggface2/bbox and both labels_emotic_res50_colab.xlsx'\n",
    "output_dir = 'output_images_emotic_res50_colab'\n",
    "os.makedirs(output_dir, exist_ok=True)\n",
    "\n",
    "df = pd.read_excel(excel_path)\n",
    "\n",
    "for index, row in df.iterrows():\n",
    "    image_name = row['Image Name']\n",
    "    image_path = os.path.join('/task_emotion_annotations_vggface2/default/Person', image_name)\n",
    "    image = cv2.imread(image_path)\n",
    "    \n",
    "    xtl, ytl, xbr, ybr = int(row['xtl']), int(row['ytl']), int(row['xbr']), int(row['ybr'])\n",
    "    cv2.rectangle(image, (xtl, ytl), (xbr, ybr), (0, 0, 255), 2)\n",
    "    \n",
    "    label = f\"GT: {row['Ground Truth Label']}  Pred: {row['Predicted Label']}\"\n",
    "    cv2.putText(image, label, (10, 30), cv2.FONT_HERSHEY_SIMPLEX, 0.8, (0, 0, 0), 2)\n",
    "    \n",
    "    output_image_path = os.path.join(output_dir, image_name)\n",
    "    cv2.imwrite(output_image_path, image)\n",
    "\n",
    "print(\"Images with bounding boxes and labels created successfully.\")\n"
   ]
  }
 ],
 "metadata": {
  "kernelspec": {
   "display_name": "pr",
   "language": "python",
   "name": "python3"
  },
  "language_info": {
   "codemirror_mode": {
    "name": "ipython",
    "version": 3
   },
   "file_extension": ".py",
   "mimetype": "text/x-python",
   "name": "python",
   "nbconvert_exporter": "python",
   "pygments_lexer": "ipython3",
   "version": "3.8.17"
  },
  "orig_nbformat": 4
 },
 "nbformat": 4,
 "nbformat_minor": 2
}
